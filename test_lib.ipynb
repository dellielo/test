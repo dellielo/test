{
  "nbformat": 4,
  "nbformat_minor": 0,
  "metadata": {
    "colab": {
      "name": "test_lib.ipynb",
      "version": "0.3.2",
      "provenance": [],
      "collapsed_sections": [],
      "include_colab_link": true
    },
    "kernelspec": {
      "name": "python3",
      "display_name": "Python 3"
    }
  },
  "cells": [
    {
      "cell_type": "markdown",
      "metadata": {
        "id": "view-in-github",
        "colab_type": "text"
      },
      "source": [
        "<a href=\"https://colab.research.google.com/github/dellielo/test/blob/master/test_lib.ipynb\" target=\"_parent\"><img src=\"https://colab.research.google.com/assets/colab-badge.svg\" alt=\"Open In Colab\"/></a>"
      ]
    },
    {
      "cell_type": "code",
      "metadata": {
        "id": "DBMh81wc-vOp",
        "colab_type": "code",
        "colab": {}
      },
      "source": [
        ""
      ],
      "execution_count": 0,
      "outputs": []
    },
    {
      "cell_type": "code",
      "metadata": {
        "id": "y9TwZRl2-v_u",
        "colab_type": "code",
        "colab": {
          "base_uri": "https://localhost:8080/",
          "height": 418
        },
        "outputId": "844e417d-a630-4db5-9fef-217bc18543fb"
      },
      "source": [
        "!pip install https://github.com/dellielo/kahelo/archive/v.0.1.0.zip\n",
        "!pip install -U segmentation-models\n",
        "import cv2\n",
        "import kahelo\n",
        "\n"
      ],
      "execution_count": 11,
      "outputs": [
        {
          "output_type": "stream",
          "text": [
            "Collecting https://github.com/dellielo/kahelo/archive/v.0.1.0.zip\n",
            "\u001b[?25l  Downloading https://github.com/dellielo/kahelo/archive/v.0.1.0.zip (1.6MB)\n",
            "\u001b[K     |████████████████████████████████| 1.6MB 532kB/s \n",
            "\u001b[?25hRequirement already satisfied (use --upgrade to upgrade): kahelo==1.0.1 from https://github.com/dellielo/kahelo/archive/v.0.1.0.zip in /usr/local/lib/python3.6/dist-packages\n",
            "Requirement already satisfied: six in /usr/local/lib/python3.6/dist-packages (from kahelo==1.0.1) (1.12.0)\n",
            "Requirement already satisfied: Pillow in /usr/local/lib/python3.6/dist-packages (from kahelo==1.0.1) (4.3.0)\n",
            "Requirement already satisfied: olefile in /usr/local/lib/python3.6/dist-packages (from Pillow->kahelo==1.0.1) (0.46)\n",
            "Building wheels for collected packages: kahelo\n",
            "  Building wheel for kahelo (setup.py) ... \u001b[?25l\u001b[?25hdone\n",
            "  Created wheel for kahelo: filename=kahelo-1.0.1-cp36-none-any.whl size=21343 sha256=80d36780afbd0b2caef21172f1e7ac6db2a72960ffa98ab5d730a3461bc24027\n",
            "  Stored in directory: /tmp/pip-ephem-wheel-cache-hoeprbjj/wheels/c5/5e/f3/819b1139e741f3150b1e6acb46c9ec7bf52f340ca988077917\n",
            "Successfully built kahelo\n",
            "3.4.3\n"
          ],
          "name": "stdout"
        },
        {
          "output_type": "error",
          "ename": "AttributeError",
          "evalue": "ignored",
          "traceback": [
            "\u001b[0;31m---------------------------------------------------------------------------\u001b[0m",
            "\u001b[0;31mAttributeError\u001b[0m                            Traceback (most recent call last)",
            "\u001b[0;32m<ipython-input-11-86d0e164bfe6>\u001b[0m in \u001b[0;36m<module>\u001b[0;34m()\u001b[0m\n\u001b[1;32m      4\u001b[0m \u001b[0;34m\u001b[0m\u001b[0m\n\u001b[1;32m      5\u001b[0m \u001b[0mprint\u001b[0m\u001b[0;34m(\u001b[0m\u001b[0mcv2\u001b[0m\u001b[0;34m.\u001b[0m\u001b[0m__version__\u001b[0m\u001b[0;34m)\u001b[0m\u001b[0;34m\u001b[0m\u001b[0;34m\u001b[0m\u001b[0m\n\u001b[0;32m----> 6\u001b[0;31m \u001b[0mprint\u001b[0m\u001b[0;34m(\u001b[0m\u001b[0mkahelo\u001b[0m\u001b[0;34m.\u001b[0m\u001b[0mversion\u001b[0m\u001b[0;34m)\u001b[0m\u001b[0;34m\u001b[0m\u001b[0;34m\u001b[0m\u001b[0m\n\u001b[0m",
            "\u001b[0;31mAttributeError\u001b[0m: module 'kahelo' has no attribute 'version'"
          ]
        }
      ]
    },
    {
      "cell_type": "code",
      "metadata": {
        "id": "o_6kaFbcCaKk",
        "colab_type": "code",
        "colab": {
          "base_uri": "https://localhost:8080/",
          "height": 51
        },
        "outputId": "475c895b-bdc0-44ee-bec8-f9f01a74d20e"
      },
      "source": [
        "print(cv2.__version__)\n",
        "print(dir(kahelo))"
      ],
      "execution_count": 12,
      "outputs": [
        {
          "output_type": "stream",
          "text": [
            "3.4.3\n",
            "['__all__', '__builtins__', '__cached__', '__doc__', '__file__', '__loader__', '__name__', '__package__', '__path__', '__spec__']\n"
          ],
          "name": "stdout"
        }
      ]
    },
    {
      "cell_type": "code",
      "metadata": {
        "id": "Dhgz0POjCgUK",
        "colab_type": "code",
        "colab": {}
      },
      "source": [
        "!pip install -U albumentations>=0.3.0 --user \n",
        "!pip install -U --pre segmentation-models --user\n",
        "\n"
      ],
      "execution_count": 0,
      "outputs": []
    },
    {
      "cell_type": "markdown",
      "metadata": {
        "id": "TW2H1fwKCf-6",
        "colab_type": "text"
      },
      "source": [
        ""
      ]
    }
  ]
}